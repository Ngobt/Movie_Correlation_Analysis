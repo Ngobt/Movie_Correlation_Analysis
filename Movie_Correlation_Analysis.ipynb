{
 "cells": [
  {
   "cell_type": "code",
   "execution_count": null,
   "id": "e1dc9c18-e98e-4c9e-8e64-8f770ed779b5",
   "metadata": {},
   "outputs": [],
   "source": [
    "# Import libraries\n",
    "import pandas as pd\n",
    "import seaborn as sns\n",
    "import numpy as np\n",
    "\n",
    "import matplotlib\n",
    "import matplotlib.pyplot as plt\n",
    "plt.style.use('ggplot')\n",
    "from matplotlib.pyplot import figure\n",
    "\n",
    "%matplotlib inline\n",
    "matplotlib.rcParams['figure.figsize'] = (12,8)\n",
    "\n",
    "# Read in the data\n",
    "df = pd.read_csv('movies.csv')\n"
   ]
  },
  {
   "cell_type": "code",
   "execution_count": null,
   "id": "4f3f1a16-68ef-472e-91a5-c68fb48a3ac8",
   "metadata": {},
   "outputs": [],
   "source": [
    "# Look at data\n",
    "df.head()"
   ]
  },
  {
   "cell_type": "code",
   "execution_count": null,
   "id": "79bfbf41-353a-42b2-a8eb-38fcc027f04e",
   "metadata": {},
   "outputs": [],
   "source": [
    "# Look for missing data\n",
    "\n",
    "for col in df.columns:\n",
    "    pct_missing = np.mean(df[col].isnull()) * 100\n",
    "    print('{} - {:.1f}%'.format(col,pct_missing))\n",
    "\n",
    "# Drop all missing values\n",
    "df = df.dropna()\n",
    "\n",
    "# Check again for missing data\n",
    "for col in df.columns:\n",
    "    pct_missing = np.mean(df[col].isnull()) * 100\n",
    "    print('{} - {:.1f}%'.format(col,pct_missing))"
   ]
  },
  {
   "cell_type": "code",
   "execution_count": null,
   "id": "7a06623a-faf6-44d4-ae3f-c0840bd21ad9",
   "metadata": {},
   "outputs": [],
   "source": [
    "# Data types for columns\n",
    "\n",
    "df.dtypes"
   ]
  },
  {
   "cell_type": "code",
   "execution_count": null,
   "id": "9a0949b1-58ea-4ba9-9063-207dcd157644",
   "metadata": {},
   "outputs": [],
   "source": [
    "# Converting unnecessary float to int\n",
    "\n",
    "df['budget'] = df['budget'].astype('int64')\n",
    "df['votes'] = df['votes'].astype('int64')\n",
    "df['gross'] = df['gross'].astype('int64')\n",
    "\n",
    "df"
   ]
  },
  {
   "cell_type": "code",
   "execution_count": null,
   "id": "645b6a6e-e9cc-4305-8b68-b3b85173e4f0",
   "metadata": {},
   "outputs": [],
   "source": [
    "# Sort rows by gross income descending\n",
    "\n",
    "df = df.sort_values(by=['gross'], inplace=False, ascending=False)"
   ]
  },
  {
   "cell_type": "code",
   "execution_count": null,
   "id": "33e664ed-2d83-49be-b02d-11096618da42",
   "metadata": {},
   "outputs": [],
   "source": [
    "# Set option to view 50 rows at a time\n",
    "\n",
    "pd.set_option('display.max_rows', 30)"
   ]
  },
  {
   "cell_type": "code",
   "execution_count": null,
   "id": "de48587c-1e4f-4f85-9801-67d037468f7f",
   "metadata": {},
   "outputs": [],
   "source": [
    "# Drop any duplicate rows\n",
    "\n",
    "df.drop_duplicates()"
   ]
  },
  {
   "cell_type": "code",
   "execution_count": null,
   "id": "0ebfdf9b-903e-463b-98c6-f50bc2d860da",
   "metadata": {},
   "outputs": [],
   "source": [
    "# Scatter plot with budget vs gross\n",
    "\n",
    "plt.scatter(x=df['gross'], y=df['budget'])\n",
    "plt.title('Budget vs Gross Earnings')\n",
    "plt.xlabel('Gross Earnings')\n",
    "plt.ylabel('Budget for Film')\n",
    "\n",
    "plt.show"
   ]
  },
  {
   "cell_type": "code",
   "execution_count": null,
   "id": "e82563d9-b781-4bb3-b53e-00636a5575b5",
   "metadata": {},
   "outputs": [],
   "source": [
    "# Match correlation of graph with data\n",
    "\n",
    "df.head()"
   ]
  },
  {
   "cell_type": "code",
   "execution_count": null,
   "id": "cbedf473-98bf-4f7d-bc67-8e5dd64769f3",
   "metadata": {},
   "outputs": [],
   "source": [
    "# Plot budget vs gross with seaborn\n",
    "\n",
    "sns.regplot(x='gross', y='budget', data=df, scatter_kws={\"color\": \"red\"}, line_kws={\"color\": \"blue\"})\n"
   ]
  },
  {
   "cell_type": "code",
   "execution_count": null,
   "id": "9ecdd18c-8aad-44c4-8ad5-f1b9c0f2913e",
   "metadata": {},
   "outputs": [],
   "source": [
    "# Start looking at the correlation"
   ]
  },
  {
   "cell_type": "code",
   "execution_count": null,
   "id": "4bbd025a-641d-4288-abe3-7e35059796d7",
   "metadata": {},
   "outputs": [],
   "source": [
    "# We see highy correlation with gross and budget\n",
    "# We also see votes and gross earnings also have some correlation\n",
    "\n",
    "correlation_matrix = df.corr(numeric_only=True)\n",
    "sns.heatmap(correlation_matrix, annot=True)\n",
    "plt.title('Correlation Matrix for Numeric Features')\n",
    "plt.xlabel('Movie Features')\n",
    "plt.ylabel('Movie Features')\n",
    "plt.show()"
   ]
  },
  {
   "cell_type": "code",
   "execution_count": null,
   "id": "0c2ef0e8-cc34-4e96-aeda-7d59c57194a9",
   "metadata": {},
   "outputs": [],
   "source": [
    "df_numerized = df\n",
    "\n",
    "for col_name in df_numerized.columns:\n",
    "    if(df_numerized[col_name].dtype == 'object'):\n",
    "        df_numerized[col_name] = df_numerized[col_name].astype('category')\n",
    "        df_numerized[col_name] = df_numerized[col_name].cat.codes\n",
    "df_numerized"
   ]
  },
  {
   "cell_type": "code",
   "execution_count": null,
   "id": "c0fc3b3e-989e-49dd-8f48-3517e56332fc",
   "metadata": {},
   "outputs": [],
   "source": [
    "correlation_mat = df_numerized.corr()\n",
    "corr_pairs = correlation_mat.unstack()\n",
    "corr_pairs"
   ]
  },
  {
   "cell_type": "code",
   "execution_count": null,
   "id": "232a653d-18f6-4b71-973b-bfeed3697864",
   "metadata": {},
   "outputs": [],
   "source": [
    "sorted_pairs = corr_pairs.sort_values()\n",
    "sorted_pairs"
   ]
  },
  {
   "cell_type": "code",
   "execution_count": 240,
   "id": "ac9d86f1-a1fe-46dd-bb00-5dd4379bb3e1",
   "metadata": {},
   "outputs": [
    {
     "data": {
      "text/plain": [
       "votes     gross       0.614751\n",
       "gross     votes       0.614751\n",
       "          budget      0.740247\n",
       "budget    gross       0.740247\n",
       "name      name        1.000000\n",
       "director  director    1.000000\n",
       "gross     gross       1.000000\n",
       "budget    budget      1.000000\n",
       "country   country     1.000000\n",
       "star      star        1.000000\n",
       "writer    writer      1.000000\n",
       "votes     votes       1.000000\n",
       "score     score       1.000000\n",
       "released  released    1.000000\n",
       "year      year        1.000000\n",
       "genre     genre       1.000000\n",
       "rating    rating      1.000000\n",
       "company   company     1.000000\n",
       "runtime   runtime     1.000000\n",
       "dtype: float64"
      ]
     },
     "execution_count": 240,
     "metadata": {},
     "output_type": "execute_result"
    }
   ],
   "source": [
    "high_corr = sorted_pairs[(sorted_pairs) > 0.5]\n",
    "high_corr"
   ]
  },
  {
   "cell_type": "code",
   "execution_count": null,
   "id": "19e90028-aee9-4715-a21a-c766947ff5cb",
   "metadata": {},
   "outputs": [],
   "source": [
    "# We see that votes and budget are confirmed to have the highest correlation to gross earnings"
   ]
  }
 ],
 "metadata": {
  "kernelspec": {
   "display_name": "anaconda-panel-2023.05-py310",
   "language": "python",
   "name": "conda-env-anaconda-panel-2023.05-py310-py"
  },
  "language_info": {
   "codemirror_mode": {
    "name": "ipython",
    "version": 3
   },
   "file_extension": ".py",
   "mimetype": "text/x-python",
   "name": "python",
   "nbconvert_exporter": "python",
   "pygments_lexer": "ipython3",
   "version": "3.11.5"
  }
 },
 "nbformat": 4,
 "nbformat_minor": 5
}
